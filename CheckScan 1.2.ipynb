{
 "cells": [
  {
   "cell_type": "markdown",
   "id": "9d713d15",
   "metadata": {},
   "source": [
    "# CALLING GOOGLE VISION API"
   ]
  },
  {
   "cell_type": "code",
   "execution_count": 1,
   "id": "183e74fb",
   "metadata": {},
   "outputs": [],
   "source": [
    "#install google cloud vision\n",
    "\n",
    "#!pip install google-cloud-vision\n",
    "#!pip install google-cloud-storage\n",
    "#import dependencies\n",
    "from google.cloud import vision\n",
    "from google.cloud import storage\n",
    "#from google.cloud.vision_v1 import enums\n",
    "from google.cloud.vision_v1 import ImageAnnotatorClient\n",
    "from google.cloud.vision_v1 import types\n",
    "import os\n",
    "import json\n",
    "from datetime import datetime \n",
    "import csv\n",
    "\n",
    "os.environ[\"GOOGLE_APPLICATION_CREDENTIALS\"]=\"awesome-tensor-417112-23175d33a089.json\" \n",
    "\n",
    "#awesome-tensor-417112-23175d33a089.json --> project key"
   ]
  },
  {
   "cell_type": "code",
   "execution_count": 2,
   "id": "1491dcd0",
   "metadata": {},
   "outputs": [],
   "source": [
    "def detect_text_edited(path):\n",
    "    \"\"\"Detects text in the file.\"\"\"\n",
    "    from google.cloud import vision\n",
    "\n",
    "    client = vision.ImageAnnotatorClient()\n",
    "\n",
    "    with open(path, \"rb\") as image_file:\n",
    "        content = image_file.read()\n",
    "\n",
    "    image = vision.Image(content=content)\n",
    "\n",
    "    response = client.text_detection(image=image)\n",
    "    texts = response.text_annotations\n",
    "\n",
    "    if response.error.message:\n",
    "        raise Exception(\n",
    "            \"{}\\nFor more info on error messages, check: \"\n",
    "            \"https://cloud.google.com/apis/design/errors\".format(response.error.message)\n",
    "        )\n",
    "        \n",
    "    return texts"
   ]
  },
  {
   "cell_type": "markdown",
   "id": "025b5f8d",
   "metadata": {},
   "source": [
    "# CREATING LIST WITH BLOCKS OF FULL NO. OF WORDS "
   ]
  },
  {
   "cell_type": "code",
   "execution_count": 3,
   "id": "bf9fa40c",
   "metadata": {},
   "outputs": [],
   "source": [
    "def string_to_stringList(firstEntry):\n",
    "    \n",
    "    temp = ''\n",
    "    test_list=[]\n",
    "    \n",
    "    for i in range(len(firstEntry)):\n",
    "        if(firstEntry[i]!= str('\\n') ):\n",
    "            temp += firstEntry[i]\n",
    "            if(i+1==len(firstEntry)):\n",
    "                test_list.append(temp)\n",
    "        else:\n",
    "            test_list.append(temp)\n",
    "            i+=1\n",
    "            temp=''\n",
    "            \n",
    "    return test_list\n",
    "    "
   ]
  },
  {
   "cell_type": "markdown",
   "id": "3a7d24eb",
   "metadata": {},
   "source": [
    "# SLUICE BOX FUNCTIONS"
   ]
  },
  {
   "cell_type": "markdown",
   "id": "234fd4c0",
   "metadata": {},
   "source": [
    "----------------\n",
    "**1. Check for Bank Name**\n",
    "\n",
    "----------------"
   ]
  },
  {
   "cell_type": "code",
   "execution_count": 4,
   "id": "32967039",
   "metadata": {},
   "outputs": [],
   "source": [
    "def check_bank_name(currentWord, list):\n",
    "    if (\"بنك\" in currentWord or \"bank\" in currentWord.lower()) and not(currentWord in list):\n",
    "        list.append(currentWord)"
   ]
  },
  {
   "cell_type": "markdown",
   "id": "aaaa900b",
   "metadata": {},
   "source": [
    "----------------\n",
    "**2. Check for Amount**\n",
    "\n",
    "----------------"
   ]
  },
  {
   "cell_type": "code",
   "execution_count": 5,
   "id": "eef61752",
   "metadata": {},
   "outputs": [],
   "source": [
    "def check_amount_paid (currentWord, list):\n",
    "    if currentWord[0]>='٠' and currentWord[0]<='٩':\n",
    "        list.append(currentWord)"
   ]
  },
  {
   "cell_type": "markdown",
   "id": "61ac298e",
   "metadata": {},
   "source": [
    "----------------\n",
    "**3. Check for Currency**\n",
    "\n",
    "----------------"
   ]
  },
  {
   "cell_type": "code",
   "execution_count": 6,
   "id": "205a2fdf",
   "metadata": {},
   "outputs": [],
   "source": [
    "def check_currency(currentWord, list):\n",
    "\n",
    "    currency_list_en = ['egp', 'usd', 'eur', 'gbp', 'sar', 'kwd', 'jod', '$', 'us']              \n",
    "    currency_list_ar = ['جنيه', 'جنية' , 'دولار', 'دينار', 'ريال', 'درهم']\n",
    "\n",
    "    for curr in currency_list_en:\n",
    "        if curr in currentWord.lower():\n",
    "            list.append(currentWord)\n",
    "            break\n",
    "    if not(currentWord in list): \n",
    "        for curr in currency_list_ar:\n",
    "            if curr in currentWord:\n",
    "                list.append(currentWord)\n",
    "                break\n"
   ]
  },
  {
   "cell_type": "markdown",
   "id": "beca1bbd",
   "metadata": {},
   "source": [
    "----------------\n",
    "**4. Check for magnetic ink line**\n",
    "\n",
    "----------------"
   ]
  },
  {
   "cell_type": "code",
   "execution_count": 7,
   "id": "660ef387",
   "metadata": {},
   "outputs": [],
   "source": [
    "def check_micr_line(currentWord, list):\n",
    "    micr_symbols = ['⑀', '⑁', '⑂', '⑄', '⑅', '⑆', '⑇', '⑈', '⑉', '⑊']\n",
    "\n",
    "    for micr_symbol in micr_symbols:\n",
    "        if micr_symbol in currentWord.lower():\n",
    "            list.append(currentWord)\n",
    "            break\n"
   ]
  },
  {
   "cell_type": "markdown",
   "id": "772fd09f",
   "metadata": {},
   "source": [
    "----------------\n",
    "**5. Check for payee name**\n",
    "\n",
    "----------------"
   ]
  },
  {
   "cell_type": "code",
   "execution_count": 8,
   "id": "2d905f9a",
   "metadata": {},
   "outputs": [],
   "source": [
    "def check_payee_name(currentWord, listBank, listAmount, listBranch, listName):\n",
    "\n",
    "    if currentWord[0]>='أ' and currentWord[0]<= 'ي':\n",
    "        if \"بنك\" in currentWord and not(currentWord in listBank):\n",
    "            listBank.append(currentWord) \n",
    "                \n",
    "        elif \"فقط\" in currentWord or \"لا غير\" in currentWord and not(currentWord in listAmount):\n",
    "            listAmount.append(currentWord) \n",
    "            \n",
    "        elif \"فرع\" in currentWord and not(currentWord in listBranch):\n",
    "            listBranch.append(currentWord)\n",
    "\n",
    "        elif not(\"قدره\" in currentWord or \"مبلغ\" in currentWord or \"قدرة\" in currentWord):\n",
    "            listName.append(currentWord)\n"
   ]
  },
  {
   "cell_type": "markdown",
   "id": "3c8a1d37",
   "metadata": {},
   "source": [
    "----------------\n",
    "**6. Check for bank address**\n",
    "\n",
    "----------------"
   ]
  },
  {
   "cell_type": "code",
   "execution_count": 9,
   "id": "1906f14d",
   "metadata": {},
   "outputs": [],
   "source": [
    "def check_branch_address(currentWord, list):\n",
    "\n",
    "    governorates_list = ['cairo', 'giza', 'alexandria', 'dakahlia', 'red sea',\n",
    "                'beheira', 'fayoum', 'gharbiya', 'ismailia', 'menofia',\n",
    "                'Minya', 'qaliubiya', 'new valley', 'suez', 'aswan',\n",
    "                'assiut', 'beni suef', 'port said', 'damietta', 'sharkia', \n",
    "                'south sinai', 'kafr al sheikh', 'matrouh', 'luxor', 'qena', \n",
    "                'north sinai', 'sohag']\n",
    "\n",
    "    for governorate in governorates_list:\n",
    "            if governorate in currentWord.lower() or ' st' in currentWord.lower() or 'street' in currentWord.lower() or \"branch\" in currentWord.lower() or \"فرع\" in currentWord:\n",
    "                list.append(currentWord)\n",
    "                break       "
   ]
  },
  {
   "cell_type": "markdown",
   "id": "a092c834",
   "metadata": {},
   "source": [
    "# FINAL FUNCTION "
   ]
  },
  {
   "cell_type": "markdown",
   "id": "7acf68e8",
   "metadata": {},
   "source": [
    "-----------------------------------------------\n",
    "\n",
    "--------------------------------------------"
   ]
  },
  {
   "cell_type": "code",
   "execution_count": 10,
   "id": "05c92a72",
   "metadata": {},
   "outputs": [],
   "source": [
    "def checkScan(path, csv_path):\n",
    "    texts = detect_text_edited(path) \n",
    "    blocks_list = string_to_stringList(texts[0].description)\n",
    "\n",
    "    blocks_list #In memory (15:18)\n",
    "\n",
    "    #sluice boxes(lists)\n",
    "    bank_name_list = []\n",
    "    branch_address_list = []\n",
    "    amount_list = []\n",
    "    currency_list = []\n",
    "    micr_line_list = []\n",
    "    payee_name_list = []\n",
    "\n",
    "    #sluicing\n",
    "    for block in blocks_list:\n",
    "        check_payee_name(block, bank_name_list, amount_list, branch_address_list, payee_name_list)\n",
    "        check_micr_line(block, micr_line_list)\n",
    "        check_currency(block, currency_list)\n",
    "        check_amount_paid(block, amount_list)\n",
    "        check_branch_address(block, branch_address_list)\n",
    "        check_bank_name(block, bank_name_list)\n",
    "        \n",
    "    #writing to csv\n",
    "      #for aesthetic purposes\n",
    "    \n",
    "    \n",
    "    if 'Bank Name: ' not in bank_name_list:\n",
    "        bank_name_list.insert(0, 'Bank Name: ')\n",
    "    if 'Branch Address: ' not in bank_name_list:\n",
    "        branch_address_list.insert(0, 'Branch Address: ')\n",
    "    if 'Amount Paid: ' not in bank_name_list:\n",
    "        amount_list.insert(0, 'Amount Paid: ')\n",
    "    if 'Currency: ' not in bank_name_list:\n",
    "        currency_list.insert(0, 'Currency: ')\n",
    "    if 'MICR Line: ' not in bank_name_list:\n",
    "        micr_line_list.insert(0, 'MICR Line: ')\n",
    "    if 'Payee Name: ' not in bank_name_list:\n",
    "        payee_name_list.insert(0, 'Payee Name: ')\n",
    "        \n",
    "    #Scan Timestamp\n",
    "    timeStamp = [['Date and Time of this Scan: ']]\n",
    "    for val in timeStamp:\n",
    "        current_date_time = datetime.now().strftime(\"%Y-%m-%d %H:%M:%S\") \n",
    "        val.append(current_date_time) \n",
    "        \n",
    "    #writing to csv   \n",
    "    with open(csv_path, 'a', newline='', encoding='utf-8') as file:\n",
    "        writer = csv.writer(file)\n",
    "        writer.writerow(val)\n",
    "        writer.writerow(['  '])\n",
    "        writer.writerow(bank_name_list) \n",
    "        writer.writerow(branch_address_list)\n",
    "        writer.writerow(payee_name_list)\n",
    "        writer.writerow(amount_list)\n",
    "        writer.writerow(currency_list)\n",
    "        writer.writerow(micr_line_list)\n",
    "        writer.writerow(['  '])\n",
    "        writer.writerow(['Check Scan Complete! ............................................................'])\n",
    "        writer.writerow(['  '])\n"
   ]
  },
  {
   "cell_type": "markdown",
   "id": "2b20685f",
   "metadata": {},
   "source": [
    "-----------------------------------------------\n",
    "Calling Function Below\n",
    "\n",
    "\n",
    "--------------------------------------------"
   ]
  },
  {
   "cell_type": "markdown",
   "id": "3ac6e396",
   "metadata": {},
   "source": [
    "# BEGINNING OF FRONT END"
   ]
  },
  {
   "cell_type": "code",
   "execution_count": 11,
   "id": "763588ab",
   "metadata": {},
   "outputs": [],
   "source": [
    "#!pip install tk-tools\n",
    "#!pip install pillow"
   ]
  },
  {
   "cell_type": "code",
   "execution_count": 12,
   "id": "2f9ce175",
   "metadata": {},
   "outputs": [],
   "source": [
    "import tkinter as tk\n",
    "from tkinter import Label\n",
    "from tkinter import filedialog\n",
    "from PIL import Image, ImageTk\n",
    "import ctypes"
   ]
  },
  {
   "cell_type": "code",
   "execution_count": 13,
   "id": "8321580f",
   "metadata": {},
   "outputs": [],
   "source": [
    "def popupmsg():\n",
    "    popup = tk.Tk()\n",
    "    popup.wm_title(\"Success!\")\n",
    "    popup.geometry(\"250x100\")\n",
    "    label = tk.Label(popup, text=\"Checks Scanned Successfully!\", font= \"Helvetica 10\")\n",
    "    label.pack(side=\"top\", fill=\"x\", pady=10)\n",
    "    B1 = tk.Button(popup, text=\"Okay\", command = popup.destroy)\n",
    "    B1.pack()\n",
    "    popup.eval('tk::PlaceWindow . center')\n",
    "    \n",
    "    myappid = 'mycompany.myproduct.subproduct.version' # arbitrary string\n",
    "    ctypes.windll.shell32.SetCurrentProcessExplicitAppUserModelID(myappid)\n",
    "    popup.iconbitmap(\"Check-Scan-Logo.ico\")\n",
    "    \n",
    "    \n",
    "    popup.mainloop()"
   ]
  },
  {
   "cell_type": "code",
   "execution_count": 14,
   "id": "ba9c2ee6",
   "metadata": {},
   "outputs": [],
   "source": [
    "# image uploader function\n",
    "def imageUploader():\n",
    "    fileTypes = [(\"Image files\", \"*.png;*.jpg;*.jpeg\")]\n",
    "    path = tk.filedialog.askopenfilename(filetypes=fileTypes, multiple = 'true')\n",
    "    \n",
    "    for f in path:\n",
    "        checkScan(f, \"CheckScan_Results.csv\")\n",
    "    popupmsg()\n",
    "    \n",
    "    # if file is selected\n",
    "    if len(path):\n",
    "        img = Image.open(path)\n",
    " \n",
    "    # if no file is selected, then we are displaying below message\n",
    "    else:\n",
    "        print(\"No file is Choosen !! Please choose a file.\")\n",
    " \n",
    " "
   ]
  },
  {
   "cell_type": "code",
   "execution_count": 15,
   "id": "ecb4b441",
   "metadata": {},
   "outputs": [],
   "source": [
    "def center_screen():\n",
    "    \"\"\" gets the coordinates of the center of the screen \"\"\"\n",
    "    global screen_height, screen_width, x_cordinate, y_cordinate\n",
    "    screen_width = app.winfo_screenwidth()\n",
    "    screen_height = app.winfo_screenheight()\n",
    "    # Coordinates of the upper left corner of the window to make the window appear in the center\n",
    "    x_cordinate = int((screen_width/2) - (window_width/2))\n",
    "    y_cordinate = int((screen_height/2) - (window_height/2))\n",
    "    app.geometry(\"{}x{}+{}+{}\".format(window_width, window_height, x_cordinate, y_cordinate))"
   ]
  },
  {
   "cell_type": "code",
   "execution_count": 16,
   "id": "15fa6ab3",
   "metadata": {},
   "outputs": [
    {
     "name": "stderr",
     "output_type": "stream",
     "text": [
      "Exception in Tkinter callback\n",
      "Traceback (most recent call last):\n",
      "  File \"C:\\Users\\mahmo\\anaconda3\\Lib\\site-packages\\PIL\\Image.py\", line 3231, in open\n",
      "    fp.seek(0)\n",
      "    ^^^^^^^\n",
      "AttributeError: 'tuple' object has no attribute 'seek'\n",
      "\n",
      "During handling of the above exception, another exception occurred:\n",
      "\n",
      "Traceback (most recent call last):\n",
      "  File \"C:\\Users\\mahmo\\anaconda3\\Lib\\tkinter\\__init__.py\", line 1948, in __call__\n",
      "    return self.func(*args)\n",
      "           ^^^^^^^^^^^^^^^^\n",
      "  File \"C:\\Users\\mahmo\\AppData\\Local\\Temp\\ipykernel_17752\\2621853229.py\", line 12, in imageUploader\n",
      "    img = Image.open(path)\n",
      "          ^^^^^^^^^^^^^^^^\n",
      "  File \"C:\\Users\\mahmo\\anaconda3\\Lib\\site-packages\\PIL\\Image.py\", line 3233, in open\n",
      "    fp = io.BytesIO(fp.read())\n",
      "                    ^^^^^^^\n",
      "AttributeError: 'tuple' object has no attribute 'read'\n"
     ]
    }
   ],
   "source": [
    "\n",
    " # Main method --> The ONLY cell you need to run the program\n",
    "if __name__ == \"__main__\":\n",
    " \n",
    "    # defining tkinter object\n",
    "    app = tk.Tk()\n",
    " \n",
    "    # setting title and basic size to our App and centering the screen\n",
    "    app.title(\"Check Scan\")\n",
    "   \n",
    "    \n",
    "    #change the app icon\n",
    "    myappid = 'mycompany.myproduct.subproduct.version' # arbitrary string\n",
    "    ctypes.windll.shell32.SetCurrentProcessExplicitAppUserModelID(myappid)\n",
    "    app.iconbitmap(\"Check-Scan-Logo.ico\")\n",
    "  \n",
    "    \n",
    "    #Adjusting size and location of window\n",
    "    window_height = 260\n",
    "    window_width = 870\n",
    "    center_screen()\n",
    "    \n",
    "    #Changing the background color\n",
    "    app.configure(bg=\"white\")\n",
    "    \n",
    "    \n",
    "    #Adds the instructions for the user\n",
    "    Label_heading = tk.Label(app, bg = \"white\",font = \"Helvetica 16 bold italic\", text ='CHECK SCAN')\n",
    "    Label_heading.place(relx = 0.5, rely = 0.1, anchor = 'n')\n",
    "    \n",
    "    Label_body = tk.Label(app,bg = \"white\", font = \"Helvetica 10\" , text ='Welcome to Check Scan! To scan your checks, click the button below and select the images of the checks that you want to have scanned.')\n",
    "    Label_body.place(relx = 0.5, rely = 0.35, anchor = 'center')\n",
    "     \n",
    "    #Adds the button style\n",
    "    app.option_add(\"*Button*Background\", \"green\")\n",
    "\n",
    " \n",
    "    # defining our upload button and calls the image uploader function\n",
    "    uploadButton = tk.Button(app, font = \"Helvetica 10 bold\", fg = \"white\", text=\"Upload Check Images\", command=imageUploader)\n",
    "    uploadButton.pack(side=tk.BOTTOM, pady=50)\n",
    " \n",
    "    app.mainloop()"
   ]
  }
 ],
 "metadata": {
  "kernelspec": {
   "display_name": "Python 3 (ipykernel)",
   "language": "python",
   "name": "python3"
  },
  "language_info": {
   "codemirror_mode": {
    "name": "ipython",
    "version": 3
   },
   "file_extension": ".py",
   "mimetype": "text/x-python",
   "name": "python",
   "nbconvert_exporter": "python",
   "pygments_lexer": "ipython3",
   "version": "3.11.5"
  }
 },
 "nbformat": 4,
 "nbformat_minor": 5
}
